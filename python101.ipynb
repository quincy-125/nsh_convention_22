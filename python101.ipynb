{
 "cells": [
  {
   "cell_type": "markdown",
   "metadata": {},
   "source": [
    "### NSH Convention 2022 Workshop - Deep Learning in Digital Melanoma Pathology\n",
    "    Organizer - Quincy Gu"
   ]
  },
  {
   "cell_type": "markdown",
   "metadata": {},
   "source": [
    "#### Python Crash Course\n",
    "    Section 1. Python Basics\n",
    "        1. Frequently Used Python Basic Data Types\n",
    "            1.1. Numerical Data Types (Integer, Float) and its Numerical Operations"
   ]
  },
  {
   "cell_type": "code",
   "execution_count": null,
   "metadata": {},
   "outputs": [],
   "source": [
    "# assign integer 4 to the variable named \"int_num\"\n",
    "int_num = 4\n",
    "# print out the data type of the variable \"int_num\"\n",
    "print(\"the type of int_num, {}, is {}\".format(int_num, type(int_num)))"
   ]
  },
  {
   "cell_type": "code",
   "execution_count": null,
   "metadata": {},
   "outputs": [],
   "source": [
    "# assign integer 4.0 to the variable named \"float_num\"\n",
    "float_num = 4.0\n",
    "# print out the data type of the variable \"float_num\"\n",
    "print(\"the type of float_num, {}, is {}\".format(float_num, type(float_num)))"
   ]
  },
  {
   "cell_type": "code",
   "execution_count": null,
   "metadata": {},
   "outputs": [],
   "source": [
    "# convert float number into integer number\n",
    "int(5.0)"
   ]
  },
  {
   "cell_type": "code",
   "execution_count": null,
   "metadata": {},
   "outputs": [],
   "source": [
    "# convert integer number into float number\n",
    "float(5)"
   ]
  },
  {
   "cell_type": "code",
   "execution_count": null,
   "metadata": {},
   "outputs": [],
   "source": [
    "# sum 2 integer numbers\n",
    "2 + 3"
   ]
  },
  {
   "cell_type": "code",
   "execution_count": null,
   "metadata": {},
   "outputs": [],
   "source": [
    "# sum 2 float numbers\n",
    "2.0 + 3.0"
   ]
  },
  {
   "cell_type": "code",
   "execution_count": null,
   "metadata": {},
   "outputs": [],
   "source": [
    "# sum one integer and one float number\n",
    "2 + 3.0"
   ]
  },
  {
   "cell_type": "code",
   "execution_count": null,
   "metadata": {},
   "outputs": [],
   "source": [
    "# subtract 2 integer numbers\n",
    "6 - 1"
   ]
  },
  {
   "cell_type": "code",
   "execution_count": null,
   "metadata": {},
   "outputs": [],
   "source": [
    "# subtract 2 float numbers\n",
    "6.0 - 1.0"
   ]
  },
  {
   "cell_type": "code",
   "execution_count": null,
   "metadata": {},
   "outputs": [],
   "source": [
    "# subtract one integer and one float number\n",
    "6.0 - 1"
   ]
  },
  {
   "cell_type": "code",
   "execution_count": null,
   "metadata": {},
   "outputs": [],
   "source": [
    "# multiply 2 integer numbers\n",
    "2 * 3"
   ]
  },
  {
   "cell_type": "code",
   "execution_count": null,
   "metadata": {},
   "outputs": [],
   "source": [
    "# multiply 2 float numbers\n",
    "2.0 * 3.0"
   ]
  },
  {
   "cell_type": "code",
   "execution_count": null,
   "metadata": {},
   "outputs": [],
   "source": [
    "# multiply one integer and one float number\n",
    "2 * 3.0"
   ]
  },
  {
   "cell_type": "code",
   "execution_count": null,
   "metadata": {},
   "outputs": [],
   "source": [
    "# division and remainder of 2 integer numbers - return accurate value \n",
    "print(f\"example using / and return accurate value, the result is {5 / 2}, \\n\" \\\n",
    "f\"example using // and return the largest integer value the result could get, the result is {5 // 2}, \\n\" \\\n",
    "f\"the remainder of 5 / 2 is {5 % 2}.\")"
   ]
  },
  {
   "cell_type": "code",
   "execution_count": null,
   "metadata": {},
   "outputs": [],
   "source": [
    "# division and remainder of 2 float numbers \n",
    "print(f\"example using / and return accurate value, the result is {5.0 / 2.0}, \\n\" \\\n",
    "f\"example using // and return the largest integer value the result could get, the result is {5.0 // 2.0}, \\n\" \\\n",
    "f\"the remainder of 5.0 / 2.0 is {5.0 % 2.0}.\")"
   ]
  },
  {
   "cell_type": "code",
   "execution_count": null,
   "metadata": {},
   "outputs": [],
   "source": [
    "# division and remainder of one integer number and one float number\n",
    "print(f\"example using / and return accurate value, the result is {5.0 / 2}, \\n\" \\\n",
    "f\"example using // and return the largest integer value the result could get, the result is {5.0 // 2}, \\n\" \\\n",
    "f\"the remainder of 5.0 / 2 is {5.0 % 2}.\")"
   ]
  },
  {
   "cell_type": "markdown",
   "metadata": {},
   "source": [
    "            1.2. String Type and its Basic Operations"
   ]
  },
  {
   "cell_type": "code",
   "execution_count": null,
   "metadata": {},
   "outputs": [],
   "source": [
    "# assign a string to the variable \"str_val\"\n",
    "str_val = 'Hello World'\n",
    "# print out the type of the variable \"str_val\"\n",
    "f\"{type(str_val)}\""
   ]
  },
  {
   "cell_type": "code",
   "execution_count": null,
   "metadata": {},
   "outputs": [],
   "source": [
    "# add 2 strings\n",
    "str1 = 'hello'\n",
    "str2 = 'world'\n",
    "str1 + ' ' + str2"
   ]
  },
  {
   "cell_type": "code",
   "execution_count": null,
   "metadata": {},
   "outputs": [],
   "source": [
    "# string subtraction\n",
    "str_val.replace('World','').strip()"
   ]
  },
  {
   "cell_type": "code",
   "execution_count": null,
   "metadata": {},
   "outputs": [],
   "source": [
    "# check the length of string\n",
    "f\"number of characters in the variable 'str_val' is {len(str_val)}, note the space in a string is also counted as one character.\""
   ]
  },
  {
   "cell_type": "markdown",
   "metadata": {},
   "source": [
    "            1.3. Boolean Type and its Basic Operations"
   ]
  },
  {
   "cell_type": "code",
   "execution_count": null,
   "metadata": {},
   "outputs": [],
   "source": [
    "bool1 = True\n",
    "bool2 = False\n",
    "print(f\"Boolean type in Python only has 2 values, which incudes {bool1} and {bool2}.\", '\\n', \n",
    "      f\"the types of the variable 'bool1' and 'bool2' are the same, which is {type(bool1)}.\")"
   ]
  },
  {
   "cell_type": "code",
   "execution_count": null,
   "metadata": {},
   "outputs": [],
   "source": [
    "# applications of boolean type in Python\n",
    "print(f\"does 1 + 1 equals 2?\", f\"the answer is {1 + 1 == 2}.\", \"\\n\", \n",
    "      f\"does the number of elements in the string 'hello' not equal to 4?\", f\"the answer is {len('hello') != 4}.\")"
   ]
  },
  {
   "cell_type": "markdown",
   "metadata": {},
   "source": [
    "            1.4. Tuple and its Basic Applications"
   ]
  },
  {
   "cell_type": "code",
   "execution_count": null,
   "metadata": {},
   "outputs": [],
   "source": [
    "tuple_val = ('biology', 'computer science', 'mathematics', 3)\n",
    "print(f\"the value of the variable tuple_val is {tuple_val},\", \"\\n\", f\"and the type of the variable tuple_var is {type(tuple_val)}.\")"
   ]
  },
  {
   "cell_type": "code",
   "execution_count": null,
   "metadata": {},
   "outputs": [],
   "source": [
    "len(tuple_val)"
   ]
  },
  {
   "cell_type": "code",
   "execution_count": null,
   "metadata": {},
   "outputs": [],
   "source": [
    "print(f\"the 1st element in tuple_val is {tuple_val[0]},\", \"\\n\", \n",
    "      f\"the 2nd element in element in tuple_val is {tuple_val[1]},\", \"\\n\",\n",
    "      f\"the 3rd element in tuple_val is {tuple_val[2]},\", \"\\n\",\n",
    "      f\"the 4th (/last) element in tuple_val is {tuple_val[3]}.\")"
   ]
  },
  {
   "cell_type": "code",
   "execution_count": null,
   "metadata": {},
   "outputs": [],
   "source": [
    "tuple_val[1:3]"
   ]
  },
  {
   "cell_type": "code",
   "execution_count": null,
   "metadata": {},
   "outputs": [],
   "source": [
    "tuple_val[1::]"
   ]
  },
  {
   "cell_type": "code",
   "execution_count": null,
   "metadata": {},
   "outputs": [],
   "source": [
    "tuple_val[0:4:2]"
   ]
  },
  {
   "cell_type": "markdown",
   "metadata": {},
   "source": [
    "            1.5. List and its Basic Applications"
   ]
  },
  {
   "cell_type": "code",
   "execution_count": null,
   "metadata": {},
   "outputs": [],
   "source": [
    "list_val = ['biology', 'computer science', 'mathematics', 3]\n",
    "print(f\"the value of the variable list_val is {list_val},\", \"\\n\", \n",
    "      f\"and the type of the variable list_var is {type(list_val)}.\")"
   ]
  },
  {
   "cell_type": "code",
   "execution_count": null,
   "metadata": {},
   "outputs": [],
   "source": [
    "len(list_val)"
   ]
  },
  {
   "cell_type": "code",
   "execution_count": null,
   "metadata": {},
   "outputs": [],
   "source": [
    "print(f\"the 1st element in list_val is {list_val[0]},\", \"\\n\", \n",
    "      f\"the 2nd element in element in list_val is {list_val[1]},\", \"\\n\",\n",
    "      f\"the 3rd element in list_val is {list_val[2]},\", \"\\n\",\n",
    "      f\"the 4th (/last) element in list_val is {list_val[3]}.\")"
   ]
  },
  {
   "cell_type": "code",
   "execution_count": null,
   "metadata": {},
   "outputs": [],
   "source": [
    "list_val[1:3]"
   ]
  },
  {
   "cell_type": "code",
   "execution_count": null,
   "metadata": {},
   "outputs": [],
   "source": [
    "list_val[1::]"
   ]
  },
  {
   "cell_type": "code",
   "execution_count": null,
   "metadata": {},
   "outputs": [],
   "source": [
    "list_val[0:4:2]"
   ]
  },
  {
   "cell_type": "code",
   "execution_count": null,
   "metadata": {},
   "outputs": [],
   "source": [
    "list_val.append('add')\n",
    "list1 = list_val"
   ]
  },
  {
   "cell_type": "code",
   "execution_count": null,
   "metadata": {},
   "outputs": [],
   "source": [
    "list1"
   ]
  },
  {
   "cell_type": "code",
   "execution_count": null,
   "metadata": {},
   "outputs": [],
   "source": [
    "list1.insert(0, 'insert')\n",
    "list2 = list1"
   ]
  },
  {
   "cell_type": "code",
   "execution_count": null,
   "metadata": {},
   "outputs": [],
   "source": [
    "list2"
   ]
  },
  {
   "cell_type": "code",
   "execution_count": null,
   "metadata": {},
   "outputs": [],
   "source": [
    "list2.remove(3)\n",
    "list3 = list2"
   ]
  },
  {
   "cell_type": "code",
   "execution_count": null,
   "metadata": {},
   "outputs": [],
   "source": [
    "list3"
   ]
  },
  {
   "cell_type": "markdown",
   "metadata": {},
   "source": [
    "            1.6. Set and its Basic Applications"
   ]
  },
  {
   "cell_type": "code",
   "execution_count": null,
   "metadata": {},
   "outputs": [],
   "source": [
    "set_val = {'bioinformatics', 'NSH_Convention', 2022, tuple_val}\n",
    "print(f\"the value of the variable set_val is {set_val},\", \"\\n\", \n",
    "      f\"and the type of the variable set_var is {type(set_val)}.\")"
   ]
  },
  {
   "cell_type": "code",
   "execution_count": null,
   "metadata": {},
   "outputs": [],
   "source": [
    "len(set_val)"
   ]
  },
  {
   "cell_type": "code",
   "execution_count": null,
   "metadata": {},
   "outputs": [],
   "source": [
    "set_val.add('Minnesota')\n",
    "set1 = set_val"
   ]
  },
  {
   "cell_type": "code",
   "execution_count": null,
   "metadata": {},
   "outputs": [],
   "source": [
    "set1"
   ]
  },
  {
   "cell_type": "code",
   "execution_count": null,
   "metadata": {},
   "outputs": [],
   "source": [
    "len(set1)"
   ]
  },
  {
   "cell_type": "code",
   "execution_count": null,
   "metadata": {},
   "outputs": [],
   "source": [
    "set1.remove(tuple_val)\n",
    "set2 = set1"
   ]
  },
  {
   "cell_type": "code",
   "execution_count": null,
   "metadata": {},
   "outputs": [],
   "source": [
    "set2"
   ]
  },
  {
   "cell_type": "code",
   "execution_count": null,
   "metadata": {},
   "outputs": [],
   "source": [
    "len(set2)"
   ]
  },
  {
   "cell_type": "markdown",
   "metadata": {},
   "source": [
    "            1.7. Dictionary and its Basic Applications"
   ]
  },
  {
   "cell_type": "code",
   "execution_count": null,
   "metadata": {},
   "outputs": [],
   "source": [
    "dict_val = {'Boston': 'MA',\n",
    "            'Minneapolis': 'MN',\n",
    "            'Santa Clara': 'CA'}\n",
    "print(f\"the value of the variable dict_val is {dict_val},\", \"\\n\", \n",
    "      f\"and the type of the variable dict_var is {type(dict_val)}.\")"
   ]
  },
  {
   "cell_type": "code",
   "execution_count": null,
   "metadata": {},
   "outputs": [],
   "source": [
    "len(dict_val)"
   ]
  },
  {
   "cell_type": "code",
   "execution_count": null,
   "metadata": {},
   "outputs": [],
   "source": [
    "dict_val.keys()"
   ]
  },
  {
   "cell_type": "code",
   "execution_count": null,
   "metadata": {},
   "outputs": [],
   "source": [
    "dict_val['Boston']"
   ]
  },
  {
   "cell_type": "code",
   "execution_count": null,
   "metadata": {},
   "outputs": [],
   "source": [
    "dict_val[\"Reno\"] = \"NV\"\n",
    "dict1 = dict_val"
   ]
  },
  {
   "cell_type": "code",
   "execution_count": null,
   "metadata": {},
   "outputs": [],
   "source": [
    "dict1"
   ]
  },
  {
   "cell_type": "code",
   "execution_count": null,
   "metadata": {},
   "outputs": [],
   "source": [
    "len(dict1)"
   ]
  },
  {
   "cell_type": "markdown",
   "metadata": {},
   "source": [
    "        2. Control Flow (if-else statement)"
   ]
  },
  {
   "cell_type": "code",
   "execution_count": null,
   "metadata": {},
   "outputs": [],
   "source": [
    "weather_list = ['sunny', 'rainy', 'windy']\n",
    "weather = weather_list[1] # try other options yourself\n",
    "\n",
    "if weather == 'rainy':\n",
    "  print('take umbrella')\n",
    "else:\n",
    "  print('do not take umbrella')"
   ]
  },
  {
   "cell_type": "markdown",
   "metadata": {},
   "source": [
    "        3. Loop\n",
    "            3.1. For Loop"
   ]
  },
  {
   "cell_type": "code",
   "execution_count": null,
   "metadata": {},
   "outputs": [],
   "source": [
    "for i in range(4):\n",
    "  print(f\"print hello world for the {i + 1}st time\")"
   ]
  },
  {
   "cell_type": "markdown",
   "metadata": {},
   "source": [
    "            3.2. While Loop"
   ]
  },
  {
   "cell_type": "code",
   "execution_count": null,
   "metadata": {},
   "outputs": [],
   "source": [
    "majors = ['statistics', 'mathematics', 'biology', 'chemistry', 'physics', \n",
    "          'bioinformatics', 'computational biology', 'biomathematics', 'engineering']"
   ]
  },
  {
   "cell_type": "code",
   "execution_count": null,
   "metadata": {},
   "outputs": [],
   "source": [
    "bio_majors = list()\n",
    "for i in range(len(majors)):\n",
    "  while 'bio' in majors[i]:\n",
    "    bio_majors.append(majors[i])\n",
    "    break"
   ]
  },
  {
   "cell_type": "code",
   "execution_count": null,
   "metadata": {},
   "outputs": [],
   "source": [
    "bio_majors"
   ]
  },
  {
   "cell_type": "markdown",
   "metadata": {},
   "source": [
    "        4. Function in Python"
   ]
  },
  {
   "cell_type": "code",
   "execution_count": null,
   "metadata": {},
   "outputs": [],
   "source": [
    "def bio_major(major_list):\n",
    "  \"\"\"\n",
    "  params: major_list - input list for all optional majors\n",
    "\n",
    "  return: bio_majors - output list for all bio related majors from optional majors\n",
    "  \"\"\"\n",
    "  bio_majors = list()\n",
    "\n",
    "  for i in range(len(major_list)):\n",
    "    if 'bio' in major_list[i]:\n",
    "      bio_majors.append(major_list[i])\n",
    "  \n",
    "  return bio_majors"
   ]
  },
  {
   "cell_type": "code",
   "execution_count": null,
   "metadata": {},
   "outputs": [],
   "source": [
    "majors_list = ['statistics', 'mathematics', 'biology', 'chemistry', 'physics', \n",
    "          'bioinformatics', 'computational biology', 'biomathematics', \n",
    "          'biostatistics', 'biophysics', 'biochemistry', 'biomedical engineering']"
   ]
  },
  {
   "cell_type": "code",
   "execution_count": null,
   "metadata": {},
   "outputs": [],
   "source": [
    "bio_majors_list = bio_major(majors_list)\n",
    "bio_majors_list"
   ]
  },
  {
   "cell_type": "markdown",
   "metadata": {},
   "source": [
    "        5. Class in Python"
   ]
  },
  {
   "cell_type": "code",
   "execution_count": null,
   "metadata": {},
   "outputs": [],
   "source": [
    "class num_op():\n",
    "  def __init__(self, operations):\n",
    "    self.operations = operations\n",
    "\n",
    "  def num_comp(self, num1, num2):\n",
    "    if self.operations == 'add':\n",
    "      return num1 + num2\n",
    "    elif self.operations == 'subtract':\n",
    "      return num1 - num2\n",
    "    elif self.operations == 'multiply':\n",
    "      return num1 * num2\n",
    "    elif self.operations == 'int_division':\n",
    "      return num1 // num2\n",
    "    elif self.operations == 'float_division':\n",
    "      return num1 / num2\n",
    "    elif self.operations == 'remainder':\n",
    "      return num1 % num2\n",
    "    else:\n",
    "      raise('check the input operations')"
   ]
  },
  {
   "cell_type": "code",
   "execution_count": null,
   "metadata": {},
   "outputs": [],
   "source": [
    "# sum of 2 numbers\n",
    "add = num_op(operations='add')\n",
    "add.num_comp(1, 2)"
   ]
  },
  {
   "cell_type": "code",
   "execution_count": null,
   "metadata": {},
   "outputs": [],
   "source": [
    "# subtract of 2 numbers\n",
    "subtract = num_op(operations='subtract')\n",
    "subtract.num_comp(5, 4.0)"
   ]
  },
  {
   "cell_type": "code",
   "execution_count": null,
   "metadata": {},
   "outputs": [],
   "source": [
    "# multiplication of 2 numbers\n",
    "multiply = num_op(operations='multiply')\n",
    "multiply.num_comp(9.0, 2)"
   ]
  },
  {
   "cell_type": "code",
   "execution_count": null,
   "metadata": {},
   "outputs": [],
   "source": [
    "# integer division of 2 numbers\n",
    "int_div = num_op(operations='int_division')\n",
    "int_div.num_comp(5, 3)"
   ]
  },
  {
   "cell_type": "code",
   "execution_count": null,
   "metadata": {},
   "outputs": [],
   "source": [
    "# float division of 2 numbers\n",
    "int_div = num_op(operations='float_division')\n",
    "int_div.num_comp(5, 3)"
   ]
  },
  {
   "cell_type": "code",
   "execution_count": null,
   "metadata": {},
   "outputs": [],
   "source": [
    "# remainder of 2 numbers\n",
    "int_div = num_op(operations='remainder')\n",
    "int_div.num_comp(70, 4)"
   ]
  }
 ],
 "metadata": {
  "kernelspec": {
   "display_name": "Python 3.9.12 64-bit (microsoft store)",
   "language": "python",
   "name": "python3"
  },
  "language_info": {
   "codemirror_mode": {
    "name": "ipython",
    "version": 3
   },
   "file_extension": ".py",
   "mimetype": "text/x-python",
   "name": "python",
   "nbconvert_exporter": "python",
   "pygments_lexer": "ipython3",
   "version": "3.9.12"
  },
  "orig_nbformat": 4,
  "vscode": {
   "interpreter": {
    "hash": "1886400bc30d435c532046947fa3ff55bc2bef6e78821458f27d2ed570993260"
   }
  }
 },
 "nbformat": 4,
 "nbformat_minor": 2
}
